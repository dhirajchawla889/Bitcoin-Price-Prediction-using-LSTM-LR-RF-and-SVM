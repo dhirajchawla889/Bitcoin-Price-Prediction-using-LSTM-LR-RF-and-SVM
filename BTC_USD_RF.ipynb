{
  "nbformat": 4,
  "nbformat_minor": 0,
  "metadata": {
    "colab": {
      "provenance": []
    },
    "kernelspec": {
      "name": "python3",
      "display_name": "Python 3"
    },
    "language_info": {
      "name": "python"
    }
  },
  "cells": [
    {
      "cell_type": "code",
      "execution_count": 3,
      "metadata": {
        "colab": {
          "base_uri": "https://localhost:8080/"
        },
        "id": "kRnoLZkz7a2n",
        "outputId": "9f367cd7-732e-403b-dea1-1a4c464b61d6"
      },
      "outputs": [
        {
          "output_type": "stream",
          "name": "stdout",
          "text": [
            "Predicted Price for the Next Day: [29356.973965]\n"
          ]
        },
        {
          "output_type": "stream",
          "name": "stderr",
          "text": [
            "/usr/local/lib/python3.10/dist-packages/sklearn/base.py:439: UserWarning: X does not have valid feature names, but RandomForestRegressor was fitted with feature names\n",
            "  warnings.warn(\n"
          ]
        }
      ],
      "source": [
        "#Importing Libraries\n",
        "import pandas as pd\n",
        "from sklearn.model_selection import train_test_split\n",
        "from sklearn.ensemble import RandomForestRegressor\n",
        "from sklearn.preprocessing import LabelEncoder\n",
        "from sklearn.metrics import r2_score\n",
        "from sklearn.metrics import mean_squared_error\n",
        "\n",
        "# Load dataset\n",
        "df = pd.read_csv('BTC-USD.csv')\n",
        "\n",
        "# Convert date column to numeric representation\n",
        "df['Date'] = pd.to_datetime(df['Date'], format='%d/%m/%Y')\n",
        "df['Date'] = df['Date'].astype(int)\n",
        "\n",
        "# Split the data into input features (x) and target variable (y)\n",
        "x = df.drop('Close', axis=1)\n",
        "y = df['Close']\n",
        "\n",
        "# Split the data into training and testing sets\n",
        "x_train, x_test, y_train, y_test = train_test_split(x, y, test_size=0.2, random_state=42)\n",
        "\n",
        "# Store the feature names\n",
        "feature_names = x.columns.tolist()\n",
        "\n",
        "# Initialize the Random Forest regressor\n",
        "randomforest_regressor = RandomForestRegressor(n_estimators=100, random_state=42)\n",
        "\n",
        "# Fit the model on the training data\n",
        "randomforest_regressor.fit(x_train, y_train)\n",
        "\n",
        "# Make predictions on the test data\n",
        "y_pred = randomforest_regressor.predict(x_test)\n",
        "\n",
        "# Prepare input features for the next day\n",
        "next_day_features = x.iloc[-1, :].values.reshape(1, -1)  # Assuming the last row contains the most recent data\n",
        "\n",
        "# Predict the price for the next day\n",
        "predicted_price_for_next_day = randomforest_regressor.predict(next_day_features)\n",
        "print('Predicted Price for the Next Day:', predicted_price_for_next_day)"
      ]
    },
    {
      "cell_type": "code",
      "source": [
        "from sklearn.metrics import r2_score\n",
        "\n",
        "# Assuming y_true contains the true values and y_pred contains the predicted values\n",
        "r2 = r2_score(y_test, y_pred)\n",
        "\n",
        "print('R2 Score:', r2)"
      ],
      "metadata": {
        "colab": {
          "base_uri": "https://localhost:8080/"
        },
        "id": "qr6618209sin",
        "outputId": "886c87db-a43a-4c6c-af23-2662acac5bf6"
      },
      "execution_count": 4,
      "outputs": [
        {
          "output_type": "stream",
          "name": "stdout",
          "text": [
            "R2 Score: 0.9999854120005998\n"
          ]
        }
      ]
    },
    {
      "cell_type": "code",
      "source": [
        "# Simulator Trader\n",
        "\n",
        "todayPrice = df[\"Close\"].iloc[-1]\n",
        "\n",
        "if predicted_price_for_next_day > todayPrice:\n",
        "    print('Buy')\n",
        "elif predicted_price_for_next_day < todayPrice:\n",
        "    print('Sell')\n",
        "else:\n",
        "    print('Do Nothing')"
      ],
      "metadata": {
        "colab": {
          "base_uri": "https://localhost:8080/"
        },
        "id": "QSNe2HMuHTVa",
        "outputId": "b9154b0d-90ad-4b3a-8b2b-853daee6c3b9"
      },
      "execution_count": 6,
      "outputs": [
        {
          "output_type": "stream",
          "name": "stdout",
          "text": [
            "Buy\n"
          ]
        }
      ]
    },
    {
      "cell_type": "code",
      "source": [
        "todayPrice = df[\"Close\"].iloc[-1]\n",
        "print(todayPrice)"
      ],
      "metadata": {
        "colab": {
          "base_uri": "https://localhost:8080/"
        },
        "id": "XVOQ4SMITb5N",
        "outputId": "2e98de8e-25c7-49a8-9d9c-44e27131a99d"
      },
      "execution_count": 5,
      "outputs": [
        {
          "output_type": "stream",
          "name": "stdout",
          "text": [
            "29340.26172\n"
          ]
        }
      ]
    }
  ]
}